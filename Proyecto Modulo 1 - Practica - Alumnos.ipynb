{
 "cells": [
  {
   "cell_type": "markdown",
   "metadata": {
    "id": "Id-GVpGT2rlx"
   },
   "source": [
    "![rmotr](https://user-images.githubusercontent.com/7065401/52071918-bda15380-2562-11e9-828c-7f95297e4a82.png)\n",
    "<hr style=\"margin-bottom: 40px;\">\n",
    "\n",
    "<img src=\"https://user-images.githubusercontent.com/7065401/69450217-6cee2780-0d3b-11ea-947b-461ea407da85.jpg\"\n",
    "    style=\"width:400px; float: right; margin: 0 40px 40px 40px;\"></img>\n",
    "\n",
    "### Project\n",
    "\n",
    "# New York City Airbnb Open Data\n",
    "\n",
    "Let's put in practice the topics covered in the course and analyze Airbnb listings data.\n",
    "\n",
    "Since 2008, guests and hosts have used Airbnb to expand on traveling possibilities and present more unique, personalized way of experiencing the world. This dataset describes the listing activity and metrics in BCN, Spain for 2022."
   ]
  },
  {
   "cell_type": "markdown",
   "metadata": {
    "id": "YA9zjohT2rl0"
   },
   "source": [
    "![purple-divider](https://user-images.githubusercontent.com/7065401/52071927-c1cd7100-2562-11e9-908a-dde91ba14e59.png)\n",
    "\n",
    "## Hands on! "
   ]
  },
  {
   "cell_type": "code",
   "execution_count": 1,
   "metadata": {
    "id": "ZerrRYri2rl1"
   },
   "outputs": [],
   "source": [
    "import numpy as np\n",
    "import pandas as pd\n",
    "import matplotlib.pyplot as plt\n",
    "import matplotlib.image as mpimg\n",
    "import seaborn as sns"
   ]
  },
  {
   "cell_type": "markdown",
   "metadata": {
    "id": "nHjgQvK22rl2"
   },
   "source": [
    "![green-divider](https://user-images.githubusercontent.com/7065401/52071924-c003ad80-2562-11e9-8297-1c6595f8a7ff.png)\n",
    "\n",
    "### Read the `airbnb_data` dataset into a `airbnb_df` DataFrame variable.\n",
    "\n",
    "This data file includes all needed information to find out more about hosts and geographical availability.\n",
    "\n",
    "This public dataset is part of Airbnb, and the original source can be found on this [website](http://insideairbnb.com/).\n",
    "\n",
    "Here's a preview of that file:"
   ]
  },
  {
   "cell_type": "code",
   "execution_count": null,
   "metadata": {
    "colab": {
     "base_uri": "https://localhost:8080/"
    },
    "executionInfo": {
     "elapsed": 6,
     "status": "ok",
     "timestamp": 1669466848281,
     "user": {
      "displayName": "Diego Frigerio",
      "userId": "04684584039987871846"
     },
     "user_tz": 180
    },
    "id": "y1cPSwJo2rl2",
    "outputId": "55c935ac-7fc0-4546-91ab-2c000c77cff7",
    "scrolled": true
   },
   "outputs": [],
   "source": [
    "!head airbnb_data.csv"
   ]
  },
  {
   "cell_type": "markdown",
   "metadata": {
    "id": "dqbJkUOr2rl3"
   },
   "source": [
    "The column names are taken from the original documentation for this dataset."
   ]
  },
  {
   "cell_type": "code",
   "execution_count": 2,
   "metadata": {
    "id": "Ev8TkYZw2rl4"
   },
   "outputs": [
    {
     "data": {
      "text/html": [
       "<div>\n",
       "<style scoped>\n",
       "    .dataframe tbody tr th:only-of-type {\n",
       "        vertical-align: middle;\n",
       "    }\n",
       "\n",
       "    .dataframe tbody tr th {\n",
       "        vertical-align: top;\n",
       "    }\n",
       "\n",
       "    .dataframe thead th {\n",
       "        text-align: right;\n",
       "    }\n",
       "</style>\n",
       "<table border=\"1\" class=\"dataframe\">\n",
       "  <thead>\n",
       "    <tr style=\"text-align: right;\">\n",
       "      <th></th>\n",
       "      <th>id</th>\n",
       "      <th>name</th>\n",
       "      <th>host_id</th>\n",
       "      <th>host_name</th>\n",
       "      <th>neighbourhood_group</th>\n",
       "      <th>neighbourhood</th>\n",
       "      <th>latitude</th>\n",
       "      <th>longitude</th>\n",
       "      <th>room_type</th>\n",
       "      <th>price</th>\n",
       "      <th>minimum_nights</th>\n",
       "      <th>number_of_reviews</th>\n",
       "      <th>last_review</th>\n",
       "      <th>reviews_per_month</th>\n",
       "      <th>calculated_host_listings_count</th>\n",
       "      <th>availability_365</th>\n",
       "      <th>number_of_reviews_ltm</th>\n",
       "      <th>license</th>\n",
       "    </tr>\n",
       "  </thead>\n",
       "  <tbody>\n",
       "    <tr>\n",
       "      <th>3152</th>\n",
       "      <td>13385530</td>\n",
       "      <td>Cozy Private room near Sagrada Família</td>\n",
       "      <td>73883397</td>\n",
       "      <td>Alba</td>\n",
       "      <td>Sant Martí</td>\n",
       "      <td>el Camp de l'Arpa del Clot</td>\n",
       "      <td>41.4086</td>\n",
       "      <td>2.18355</td>\n",
       "      <td>Private room</td>\n",
       "      <td>35,00 USD-.</td>\n",
       "      <td>1</td>\n",
       "      <td>3</td>\n",
       "      <td>2016-09-07</td>\n",
       "      <td>0.04</td>\n",
       "      <td>1</td>\n",
       "      <td>0</td>\n",
       "      <td>0</td>\n",
       "      <td>NaN</td>\n",
       "    </tr>\n",
       "    <tr>\n",
       "      <th>9961</th>\n",
       "      <td>43933455</td>\n",
       "      <td>BARCELONA | STYLISH APARTMENT FOR FOUR</td>\n",
       "      <td>299462</td>\n",
       "      <td>Stay U-Nique</td>\n",
       "      <td>Eixample</td>\n",
       "      <td>Sant Antoni</td>\n",
       "      <td>41.3817</td>\n",
       "      <td>2.15977</td>\n",
       "      <td>Entire home/apt</td>\n",
       "      <td>205,00 USD-.</td>\n",
       "      <td>3</td>\n",
       "      <td>51</td>\n",
       "      <td>2022-09-04</td>\n",
       "      <td>2.89</td>\n",
       "      <td>126</td>\n",
       "      <td>41</td>\n",
       "      <td>40</td>\n",
       "      <td>HUTB-013093</td>\n",
       "    </tr>\n",
       "  </tbody>\n",
       "</table>\n",
       "</div>"
      ],
      "text/plain": [
       "            id                                    name   host_id  \\\n",
       "3152  13385530  Cozy Private room near Sagrada Família  73883397   \n",
       "9961  43933455  BARCELONA | STYLISH APARTMENT FOR FOUR    299462   \n",
       "\n",
       "         host_name neighbourhood_group               neighbourhood  latitude  \\\n",
       "3152          Alba          Sant Martí  el Camp de l'Arpa del Clot   41.4086   \n",
       "9961  Stay U-Nique            Eixample                 Sant Antoni   41.3817   \n",
       "\n",
       "      longitude        room_type         price  minimum_nights  \\\n",
       "3152    2.18355     Private room   35,00 USD-.               1   \n",
       "9961    2.15977  Entire home/apt  205,00 USD-.               3   \n",
       "\n",
       "      number_of_reviews last_review  reviews_per_month  \\\n",
       "3152                  3  2016-09-07               0.04   \n",
       "9961                 51  2022-09-04               2.89   \n",
       "\n",
       "      calculated_host_listings_count  availability_365  number_of_reviews_ltm  \\\n",
       "3152                               1                 0                      0   \n",
       "9961                             126                41                     40   \n",
       "\n",
       "          license  \n",
       "3152          NaN  \n",
       "9961  HUTB-013093  "
      ]
     },
     "execution_count": 2,
     "metadata": {},
     "output_type": "execute_result"
    }
   ],
   "source": [
    "# your code goes here\n",
    "airbnb=pd.read_csv(\"airbnb_data.csv\",sep=\";\")\n",
    "airbnb.sample(2)"
   ]
  },
  {
   "cell_type": "code",
   "execution_count": 3,
   "metadata": {
    "cell_type": "solution",
    "id": "FBEulHQO2rl4"
   },
   "outputs": [],
   "source": [
    "# solution\n",
    "\n",
    "#airbnb_df = pd.read_csv('data/airbnb_data.csv', sep=';')\n",
    "\n",
    "#airbnb_df.head()"
   ]
  },
  {
   "cell_type": "markdown",
   "metadata": {},
   "source": [
    "Hacemos info para ver de que tipo es cada columna. vemos que price aunque tenga numeros es object porq tiene la divisa"
   ]
  },
  {
   "cell_type": "code",
   "execution_count": 3,
   "metadata": {},
   "outputs": [
    {
     "name": "stdout",
     "output_type": "stream",
     "text": [
      "<class 'pandas.core.frame.DataFrame'>\n",
      "RangeIndex: 16920 entries, 0 to 16919\n",
      "Data columns (total 18 columns):\n",
      " #   Column                          Non-Null Count  Dtype  \n",
      "---  ------                          --------------  -----  \n",
      " 0   id                              16920 non-null  int64  \n",
      " 1   name                            16910 non-null  object \n",
      " 2   host_id                         16920 non-null  int64  \n",
      " 3   host_name                       16918 non-null  object \n",
      " 4   neighbourhood_group             16920 non-null  object \n",
      " 5   neighbourhood                   16920 non-null  object \n",
      " 6   latitude                        16920 non-null  float64\n",
      " 7   longitude                       16920 non-null  float64\n",
      " 8   room_type                       16920 non-null  object \n",
      " 9   price                           16920 non-null  object \n",
      " 10  minimum_nights                  16920 non-null  int64  \n",
      " 11  number_of_reviews               16920 non-null  int64  \n",
      " 12  last_review                     13306 non-null  object \n",
      " 13  reviews_per_month               13306 non-null  float64\n",
      " 14  calculated_host_listings_count  16920 non-null  int64  \n",
      " 15  availability_365                16920 non-null  int64  \n",
      " 16  number_of_reviews_ltm           16920 non-null  int64  \n",
      " 17  license                         11592 non-null  object \n",
      "dtypes: float64(3), int64(7), object(8)\n",
      "memory usage: 2.3+ MB\n"
     ]
    }
   ],
   "source": [
    "airbnb.info()\n"
   ]
  },
  {
   "cell_type": "markdown",
   "metadata": {
    "id": "MNoKdQ4i2rl6"
   },
   "source": [
    "![green-divider](https://user-images.githubusercontent.com/7065401/52071924-c003ad80-2562-11e9-8297-1c6595f8a7ff.png)\n",
    "\n",
    "### 1. Checking missing data\n",
    "\n",
    "We need to check if our `airbnb_data` has any null value. \n",
    "\n",
    "To do that, let's create a `percent_missing` Series containing the column names and the percent of missing values per column."
   ]
  },
  {
   "cell_type": "code",
   "execution_count": 4,
   "metadata": {
    "id": "pZP4kr9i2rl6"
   },
   "outputs": [
    {
     "data": {
      "text/plain": [
       "id                                   0\n",
       "name                                10\n",
       "host_id                              0\n",
       "host_name                            2\n",
       "neighbourhood_group                  0\n",
       "neighbourhood                        0\n",
       "latitude                             0\n",
       "longitude                            0\n",
       "room_type                            0\n",
       "price                                0\n",
       "minimum_nights                       0\n",
       "number_of_reviews                    0\n",
       "last_review                       3614\n",
       "reviews_per_month                 3614\n",
       "calculated_host_listings_count       0\n",
       "availability_365                     0\n",
       "number_of_reviews_ltm                0\n",
       "license                           5328\n",
       "dtype: int64"
      ]
     },
     "execution_count": 4,
     "metadata": {},
     "output_type": "execute_result"
    }
   ],
   "source": [
    "# your code goes here\n",
    "airbnb.isnull().sum()#Primero quiero ver cuantos valores nulos tengo por columna"
   ]
  },
  {
   "cell_type": "code",
   "execution_count": 5,
   "metadata": {},
   "outputs": [
    {
     "data": {
      "text/plain": [
       "id                                 0.000000\n",
       "name                               0.059102\n",
       "host_id                            0.000000\n",
       "host_name                          0.011820\n",
       "neighbourhood_group                0.000000\n",
       "neighbourhood                      0.000000\n",
       "latitude                           0.000000\n",
       "longitude                          0.000000\n",
       "room_type                          0.000000\n",
       "price                              0.000000\n",
       "minimum_nights                     0.000000\n",
       "number_of_reviews                  0.000000\n",
       "last_review                       21.359338\n",
       "reviews_per_month                 21.359338\n",
       "calculated_host_listings_count     0.000000\n",
       "availability_365                   0.000000\n",
       "number_of_reviews_ltm              0.000000\n",
       "license                           31.489362\n",
       "dtype: float64"
      ]
     },
     "execution_count": 5,
     "metadata": {},
     "output_type": "execute_result"
    }
   ],
   "source": [
    "airbnb.isnull().sum()/len(airbnb)*100 #Y ahora simplemente dividimos entre los valores que tiene el dataset"
   ]
  },
  {
   "cell_type": "markdown",
   "metadata": {},
   "source": [
    "Podemos observar que las columnas con mas valores nulos son las de Licence, Reviews per month y calculated host_listing_counts, en el resto de columnas apenas hay valores nulos."
   ]
  },
  {
   "cell_type": "markdown",
   "metadata": {
    "id": "UQnudet22rl7"
   },
   "source": [
    "![green-divider](https://user-images.githubusercontent.com/7065401/52071924-c003ad80-2562-11e9-8297-1c6595f8a7ff.png)\n",
    "\n",
    "### 2. Dealing with `reviews_per_month` missing values\n",
    "\n",
    "Impute null values in the `reviews_per_month` column with a `0` value."
   ]
  },
  {
   "cell_type": "code",
   "execution_count": 3,
   "metadata": {
    "id": "eAjR37o22rl7"
   },
   "outputs": [
    {
     "data": {
      "text/plain": [
       "id                                   0\n",
       "name                                10\n",
       "host_id                              0\n",
       "host_name                            2\n",
       "neighbourhood_group                  0\n",
       "neighbourhood                        0\n",
       "latitude                             0\n",
       "longitude                            0\n",
       "room_type                            0\n",
       "price                                0\n",
       "minimum_nights                       0\n",
       "number_of_reviews                    0\n",
       "last_review                       3614\n",
       "reviews_per_month                    0\n",
       "calculated_host_listings_count       0\n",
       "availability_365                     0\n",
       "number_of_reviews_ltm                0\n",
       "license                           5328\n",
       "dtype: int64"
      ]
     },
     "execution_count": 3,
     "metadata": {},
     "output_type": "execute_result"
    }
   ],
   "source": [
    "# your code goes here\n",
    "airbnb['reviews_per_month'] = airbnb['reviews_per_month'].replace(np.nan, 0)\n",
    "#airbnb['reviews_per_month'] = airbnb['reviews_per_month'].fillna(0) #Este metodo tambien funciona\n",
    "airbnb.isnull().sum() #Comprobamos que ha funcionado"
   ]
  },
  {
   "cell_type": "markdown",
   "metadata": {
    "id": "yEfq0sWF2rl8"
   },
   "source": [
    "![green-divider](https://user-images.githubusercontent.com/7065401/52071924-c003ad80-2562-11e9-8297-1c6595f8a7ff.png)\n",
    "\n",
    "### 3. Dealing with `host_name` missing values\n",
    "\n",
    "Drop the rows where `host_name` has a missing value."
   ]
  },
  {
   "cell_type": "code",
   "execution_count": 4,
   "metadata": {
    "id": "jqawQzGA2rl8"
   },
   "outputs": [],
   "source": [
    "# your code goes here\n",
    "airbnb.dropna(subset=['host_name'],inplace=True)#Borramos los valores nulos de \"Host_name\", IMPORTANTE el inplace"
   ]
  },
  {
   "cell_type": "code",
   "execution_count": 5,
   "metadata": {},
   "outputs": [
    {
     "data": {
      "text/plain": [
       "id                                   0\n",
       "name                                10\n",
       "host_id                              0\n",
       "host_name                            0\n",
       "neighbourhood_group                  0\n",
       "neighbourhood                        0\n",
       "latitude                             0\n",
       "longitude                            0\n",
       "room_type                            0\n",
       "price                                0\n",
       "minimum_nights                       0\n",
       "number_of_reviews                    0\n",
       "last_review                       3613\n",
       "reviews_per_month                    0\n",
       "calculated_host_listings_count       0\n",
       "availability_365                     0\n",
       "number_of_reviews_ltm                0\n",
       "license                           5326\n",
       "dtype: int64"
      ]
     },
     "execution_count": 5,
     "metadata": {},
     "output_type": "execute_result"
    }
   ],
   "source": [
    "airbnb.isnull().sum()"
   ]
  },
  {
   "cell_type": "markdown",
   "metadata": {
    "id": "x7Ysjpor2rl9"
   },
   "source": [
    "![green-divider](https://user-images.githubusercontent.com/7065401/52071924-c003ad80-2562-11e9-8297-1c6595f8a7ff.png)\n",
    "\n",
    "### 4. Dealing with `last_review` missing values\n",
    "\n",
    "Drop the rows where `last_review` has a missing value."
   ]
  },
  {
   "cell_type": "code",
   "execution_count": 6,
   "metadata": {
    "id": "uK1y1WYa2rl9"
   },
   "outputs": [
    {
     "data": {
      "text/plain": [
       "id                                   0\n",
       "name                                 4\n",
       "host_id                              0\n",
       "host_name                            0\n",
       "neighbourhood_group                  0\n",
       "neighbourhood                        0\n",
       "latitude                             0\n",
       "longitude                            0\n",
       "room_type                            0\n",
       "price                                0\n",
       "minimum_nights                       0\n",
       "number_of_reviews                    0\n",
       "last_review                          0\n",
       "reviews_per_month                    0\n",
       "calculated_host_listings_count       0\n",
       "availability_365                     0\n",
       "number_of_reviews_ltm                0\n",
       "license                           3306\n",
       "dtype: int64"
      ]
     },
     "execution_count": 6,
     "metadata": {},
     "output_type": "execute_result"
    }
   ],
   "source": [
    "# your code goes here\n",
    "airbnb.dropna(subset=['last_review'],inplace=True)\n",
    "airbnb.isnull().sum()"
   ]
  },
  {
   "cell_type": "markdown",
   "metadata": {
    "id": "HQIIOXQ52rl-"
   },
   "source": [
    "![green-divider](https://user-images.githubusercontent.com/7065401/52071924-c003ad80-2562-11e9-8297-1c6595f8a7ff.png)\n",
    "\n",
    "### 5. Dealing with `host_id` invalid values\n",
    "\n",
    "Drop the rows where `host_id` has a `0` value."
   ]
  },
  {
   "cell_type": "code",
   "execution_count": 10,
   "metadata": {
    "id": "C6vf558B2rl-"
   },
   "outputs": [
    {
     "data": {
      "text/html": [
       "<div>\n",
       "<style scoped>\n",
       "    .dataframe tbody tr th:only-of-type {\n",
       "        vertical-align: middle;\n",
       "    }\n",
       "\n",
       "    .dataframe tbody tr th {\n",
       "        vertical-align: top;\n",
       "    }\n",
       "\n",
       "    .dataframe thead th {\n",
       "        text-align: right;\n",
       "    }\n",
       "</style>\n",
       "<table border=\"1\" class=\"dataframe\">\n",
       "  <thead>\n",
       "    <tr style=\"text-align: right;\">\n",
       "      <th></th>\n",
       "      <th>id</th>\n",
       "      <th>name</th>\n",
       "      <th>host_id</th>\n",
       "      <th>host_name</th>\n",
       "      <th>neighbourhood_group</th>\n",
       "      <th>neighbourhood</th>\n",
       "      <th>latitude</th>\n",
       "      <th>longitude</th>\n",
       "      <th>room_type</th>\n",
       "      <th>price</th>\n",
       "      <th>minimum_nights</th>\n",
       "      <th>number_of_reviews</th>\n",
       "      <th>last_review</th>\n",
       "      <th>reviews_per_month</th>\n",
       "      <th>calculated_host_listings_count</th>\n",
       "      <th>availability_365</th>\n",
       "      <th>number_of_reviews_ltm</th>\n",
       "      <th>license</th>\n",
       "    </tr>\n",
       "  </thead>\n",
       "  <tbody>\n",
       "    <tr>\n",
       "      <th>1913</th>\n",
       "      <td>6287375</td>\n",
       "      <td>Single &amp; Quite Room in Guinardó, Barcelona</td>\n",
       "      <td>3073</td>\n",
       "      <td>Ricard</td>\n",
       "      <td>Horta-Guinardó</td>\n",
       "      <td>el Guinardó</td>\n",
       "      <td>41.420310</td>\n",
       "      <td>2.173120</td>\n",
       "      <td>Private room</td>\n",
       "      <td>26,00 USD-.</td>\n",
       "      <td>4</td>\n",
       "      <td>21</td>\n",
       "      <td>2016-12-01</td>\n",
       "      <td>0.24</td>\n",
       "      <td>1</td>\n",
       "      <td>0</td>\n",
       "      <td>0</td>\n",
       "      <td>NaN</td>\n",
       "    </tr>\n",
       "    <tr>\n",
       "      <th>12642</th>\n",
       "      <td>53824743</td>\n",
       "      <td>Superior bedroom with private bathroom up to 4</td>\n",
       "      <td>10704</td>\n",
       "      <td>Weflating</td>\n",
       "      <td>Eixample</td>\n",
       "      <td>la Dreta de l'Eixample</td>\n",
       "      <td>41.392690</td>\n",
       "      <td>2.169640</td>\n",
       "      <td>Private room</td>\n",
       "      <td>157,00 USD-.</td>\n",
       "      <td>2</td>\n",
       "      <td>4</td>\n",
       "      <td>2022-07-17</td>\n",
       "      <td>0.47</td>\n",
       "      <td>23</td>\n",
       "      <td>249</td>\n",
       "      <td>4</td>\n",
       "      <td>AJ000490</td>\n",
       "    </tr>\n",
       "    <tr>\n",
       "      <th>7228</th>\n",
       "      <td>33067556</td>\n",
       "      <td>Two bedroom apartment downtown Barcelona</td>\n",
       "      <td>10704</td>\n",
       "      <td>Weflating</td>\n",
       "      <td>Eixample</td>\n",
       "      <td>la Dreta de l'Eixample</td>\n",
       "      <td>41.392070</td>\n",
       "      <td>2.170460</td>\n",
       "      <td>Entire home/apt</td>\n",
       "      <td>239,00 USD-.</td>\n",
       "      <td>1</td>\n",
       "      <td>68</td>\n",
       "      <td>2022-09-07</td>\n",
       "      <td>1.67</td>\n",
       "      <td>23</td>\n",
       "      <td>254</td>\n",
       "      <td>37</td>\n",
       "      <td>HUTB-001989</td>\n",
       "    </tr>\n",
       "    <tr>\n",
       "      <th>7403</th>\n",
       "      <td>33062227</td>\n",
       "      <td>Superior three bedroom apartment City Center</td>\n",
       "      <td>10704</td>\n",
       "      <td>Weflating</td>\n",
       "      <td>Eixample</td>\n",
       "      <td>la Dreta de l'Eixample</td>\n",
       "      <td>41.392070</td>\n",
       "      <td>2.170460</td>\n",
       "      <td>Hotel room</td>\n",
       "      <td>288,00 USD-.</td>\n",
       "      <td>1</td>\n",
       "      <td>100</td>\n",
       "      <td>2022-09-06</td>\n",
       "      <td>2.46</td>\n",
       "      <td>23</td>\n",
       "      <td>177</td>\n",
       "      <td>73</td>\n",
       "      <td>hutb-001986</td>\n",
       "    </tr>\n",
       "    <tr>\n",
       "      <th>7404</th>\n",
       "      <td>33062383</td>\n",
       "      <td>Sunny three bedroom  penthouse apartment</td>\n",
       "      <td>10704</td>\n",
       "      <td>Weflating</td>\n",
       "      <td>Eixample</td>\n",
       "      <td>la Dreta de l'Eixample</td>\n",
       "      <td>41.392070</td>\n",
       "      <td>2.170460</td>\n",
       "      <td>Entire home/apt</td>\n",
       "      <td>319,00 USD-.</td>\n",
       "      <td>1</td>\n",
       "      <td>73</td>\n",
       "      <td>2022-09-06</td>\n",
       "      <td>1.83</td>\n",
       "      <td>23</td>\n",
       "      <td>99</td>\n",
       "      <td>45</td>\n",
       "      <td>HUTB-001996</td>\n",
       "    </tr>\n",
       "    <tr>\n",
       "      <th>...</th>\n",
       "      <td>...</td>\n",
       "      <td>...</td>\n",
       "      <td>...</td>\n",
       "      <td>...</td>\n",
       "      <td>...</td>\n",
       "      <td>...</td>\n",
       "      <td>...</td>\n",
       "      <td>...</td>\n",
       "      <td>...</td>\n",
       "      <td>...</td>\n",
       "      <td>...</td>\n",
       "      <td>...</td>\n",
       "      <td>...</td>\n",
       "      <td>...</td>\n",
       "      <td>...</td>\n",
       "      <td>...</td>\n",
       "      <td>...</td>\n",
       "      <td>...</td>\n",
       "    </tr>\n",
       "    <tr>\n",
       "      <th>15244</th>\n",
       "      <td>693490926095935190</td>\n",
       "      <td>Habitación en el corazón de barcelona</td>\n",
       "      <td>475003399</td>\n",
       "      <td>Aída</td>\n",
       "      <td>Gràcia</td>\n",
       "      <td>el Camp d'en Grassot i Gràcia Nova</td>\n",
       "      <td>41.404304</td>\n",
       "      <td>2.169113</td>\n",
       "      <td>Private room</td>\n",
       "      <td>90,00 USD-.</td>\n",
       "      <td>1</td>\n",
       "      <td>5</td>\n",
       "      <td>2022-09-06</td>\n",
       "      <td>5.00</td>\n",
       "      <td>2</td>\n",
       "      <td>340</td>\n",
       "      <td>5</td>\n",
       "      <td>Exempt</td>\n",
       "    </tr>\n",
       "    <tr>\n",
       "      <th>15976</th>\n",
       "      <td>695396420258885279</td>\n",
       "      <td>Tiny House with swimming pool at Collserola Park</td>\n",
       "      <td>475312502</td>\n",
       "      <td>Laurent</td>\n",
       "      <td>Sarrià-Sant Gervasi</td>\n",
       "      <td>Vallvidrera, el Tibidabo i les Planes</td>\n",
       "      <td>41.442810</td>\n",
       "      <td>2.057350</td>\n",
       "      <td>Entire home/apt</td>\n",
       "      <td>82,00 USD-.</td>\n",
       "      <td>1</td>\n",
       "      <td>8</td>\n",
       "      <td>2022-09-09</td>\n",
       "      <td>8.00</td>\n",
       "      <td>1</td>\n",
       "      <td>345</td>\n",
       "      <td>8</td>\n",
       "      <td>Exempt</td>\n",
       "    </tr>\n",
       "    <tr>\n",
       "      <th>15683</th>\n",
       "      <td>695720450202905003</td>\n",
       "      <td>Apartamento con un bonito patio y muy céntrico</td>\n",
       "      <td>475517271</td>\n",
       "      <td>Martina</td>\n",
       "      <td>Sants-Montjuïc</td>\n",
       "      <td>la Marina de Port</td>\n",
       "      <td>41.358146</td>\n",
       "      <td>2.123669</td>\n",
       "      <td>Entire home/apt</td>\n",
       "      <td>60,00 USD-.</td>\n",
       "      <td>2</td>\n",
       "      <td>5</td>\n",
       "      <td>2022-09-07</td>\n",
       "      <td>5.00</td>\n",
       "      <td>1</td>\n",
       "      <td>3</td>\n",
       "      <td>5</td>\n",
       "      <td>Exempt</td>\n",
       "    </tr>\n",
       "    <tr>\n",
       "      <th>15384</th>\n",
       "      <td>704820188524948957</td>\n",
       "      <td>Beautiful double bedroom in the center Barcelona</td>\n",
       "      <td>477343286</td>\n",
       "      <td>Victor</td>\n",
       "      <td>Ciutat Vella</td>\n",
       "      <td>el Raval</td>\n",
       "      <td>41.384275</td>\n",
       "      <td>2.166592</td>\n",
       "      <td>Private room</td>\n",
       "      <td>95,00 USD-.</td>\n",
       "      <td>2</td>\n",
       "      <td>1</td>\n",
       "      <td>2022-09-08</td>\n",
       "      <td>1.00</td>\n",
       "      <td>3</td>\n",
       "      <td>76</td>\n",
       "      <td>1</td>\n",
       "      <td>Exempt</td>\n",
       "    </tr>\n",
       "    <tr>\n",
       "      <th>15678</th>\n",
       "      <td>705602600092573997</td>\n",
       "      <td>Habitación con cama doble</td>\n",
       "      <td>477517124</td>\n",
       "      <td>Lorena</td>\n",
       "      <td>Les Corts</td>\n",
       "      <td>la Maternitat i Sant Ramon</td>\n",
       "      <td>41.371487</td>\n",
       "      <td>2.103769</td>\n",
       "      <td>Private room</td>\n",
       "      <td>30,00 USD-.</td>\n",
       "      <td>1</td>\n",
       "      <td>3</td>\n",
       "      <td>2022-09-06</td>\n",
       "      <td>3.00</td>\n",
       "      <td>1</td>\n",
       "      <td>230</td>\n",
       "      <td>3</td>\n",
       "      <td>HUTS-000000</td>\n",
       "    </tr>\n",
       "  </tbody>\n",
       "</table>\n",
       "<p>13305 rows × 18 columns</p>\n",
       "</div>"
      ],
      "text/plain": [
       "                       id                                              name  \\\n",
       "1913              6287375        Single & Quite Room in Guinardó, Barcelona   \n",
       "12642            53824743    Superior bedroom with private bathroom up to 4   \n",
       "7228             33067556          Two bedroom apartment downtown Barcelona   \n",
       "7403             33062227      Superior three bedroom apartment City Center   \n",
       "7404             33062383          Sunny three bedroom  penthouse apartment   \n",
       "...                   ...                                               ...   \n",
       "15244  693490926095935190             Habitación en el corazón de barcelona   \n",
       "15976  695396420258885279  Tiny House with swimming pool at Collserola Park   \n",
       "15683  695720450202905003    Apartamento con un bonito patio y muy céntrico   \n",
       "15384  704820188524948957  Beautiful double bedroom in the center Barcelona   \n",
       "15678  705602600092573997                         Habitación con cama doble   \n",
       "\n",
       "         host_id  host_name  neighbourhood_group  \\\n",
       "1913        3073     Ricard       Horta-Guinardó   \n",
       "12642      10704  Weflating             Eixample   \n",
       "7228       10704  Weflating             Eixample   \n",
       "7403       10704  Weflating             Eixample   \n",
       "7404       10704  Weflating             Eixample   \n",
       "...          ...        ...                  ...   \n",
       "15244  475003399       Aída               Gràcia   \n",
       "15976  475312502    Laurent  Sarrià-Sant Gervasi   \n",
       "15683  475517271    Martina       Sants-Montjuïc   \n",
       "15384  477343286     Victor         Ciutat Vella   \n",
       "15678  477517124     Lorena            Les Corts   \n",
       "\n",
       "                               neighbourhood   latitude  longitude  \\\n",
       "1913                             el Guinardó  41.420310   2.173120   \n",
       "12642                 la Dreta de l'Eixample  41.392690   2.169640   \n",
       "7228                  la Dreta de l'Eixample  41.392070   2.170460   \n",
       "7403                  la Dreta de l'Eixample  41.392070   2.170460   \n",
       "7404                  la Dreta de l'Eixample  41.392070   2.170460   \n",
       "...                                      ...        ...        ...   \n",
       "15244     el Camp d'en Grassot i Gràcia Nova  41.404304   2.169113   \n",
       "15976  Vallvidrera, el Tibidabo i les Planes  41.442810   2.057350   \n",
       "15683                      la Marina de Port  41.358146   2.123669   \n",
       "15384                               el Raval  41.384275   2.166592   \n",
       "15678             la Maternitat i Sant Ramon  41.371487   2.103769   \n",
       "\n",
       "             room_type         price  minimum_nights  number_of_reviews  \\\n",
       "1913      Private room   26,00 USD-.               4                 21   \n",
       "12642     Private room  157,00 USD-.               2                  4   \n",
       "7228   Entire home/apt  239,00 USD-.               1                 68   \n",
       "7403        Hotel room  288,00 USD-.               1                100   \n",
       "7404   Entire home/apt  319,00 USD-.               1                 73   \n",
       "...                ...           ...             ...                ...   \n",
       "15244     Private room   90,00 USD-.               1                  5   \n",
       "15976  Entire home/apt   82,00 USD-.               1                  8   \n",
       "15683  Entire home/apt   60,00 USD-.               2                  5   \n",
       "15384     Private room   95,00 USD-.               2                  1   \n",
       "15678     Private room   30,00 USD-.               1                  3   \n",
       "\n",
       "      last_review  reviews_per_month  calculated_host_listings_count  \\\n",
       "1913   2016-12-01               0.24                               1   \n",
       "12642  2022-07-17               0.47                              23   \n",
       "7228   2022-09-07               1.67                              23   \n",
       "7403   2022-09-06               2.46                              23   \n",
       "7404   2022-09-06               1.83                              23   \n",
       "...           ...                ...                             ...   \n",
       "15244  2022-09-06               5.00                               2   \n",
       "15976  2022-09-09               8.00                               1   \n",
       "15683  2022-09-07               5.00                               1   \n",
       "15384  2022-09-08               1.00                               3   \n",
       "15678  2022-09-06               3.00                               1   \n",
       "\n",
       "       availability_365  number_of_reviews_ltm      license  \n",
       "1913                  0                      0          NaN  \n",
       "12642               249                      4     AJ000490  \n",
       "7228                254                     37  HUTB-001989  \n",
       "7403                177                     73  hutb-001986  \n",
       "7404                 99                     45  HUTB-001996  \n",
       "...                 ...                    ...          ...  \n",
       "15244               340                      5       Exempt  \n",
       "15976               345                      8       Exempt  \n",
       "15683                 3                      5       Exempt  \n",
       "15384                76                      1       Exempt  \n",
       "15678               230                      3  HUTS-000000  \n",
       "\n",
       "[13305 rows x 18 columns]"
      ]
     },
     "execution_count": 10,
     "metadata": {},
     "output_type": "execute_result"
    }
   ],
   "source": [
    "# your code goes here\n",
    "airbnb[\"host_id\"]\n",
    "airbnb = airbnb[airbnb.host_id != 0] #Con esto le decimos que queremos conservar todos los valores que sean distintos a 0\n",
    "airbnb.sort_values(by=['host_id']) #Comprobamos que ha funcionado"
   ]
  },
  {
   "cell_type": "markdown",
   "metadata": {
    "id": "bYO-W2Mn2rl-"
   },
   "source": [
    "![green-divider](https://user-images.githubusercontent.com/7065401/52071924-c003ad80-2562-11e9-8297-1c6595f8a7ff.png)\n",
    "\n",
    "### 6. Now cast this `last_review` column to `datetime`"
   ]
  },
  {
   "cell_type": "code",
   "execution_count": 11,
   "metadata": {
    "id": "CKUmeWZy2rl-"
   },
   "outputs": [
    {
     "name": "stdout",
     "output_type": "stream",
     "text": [
      "<class 'pandas.core.frame.DataFrame'>\n",
      "Int64Index: 13305 entries, 0 to 16919\n",
      "Data columns (total 18 columns):\n",
      " #   Column                          Non-Null Count  Dtype         \n",
      "---  ------                          --------------  -----         \n",
      " 0   id                              13305 non-null  int64         \n",
      " 1   name                            13301 non-null  object        \n",
      " 2   host_id                         13305 non-null  int64         \n",
      " 3   host_name                       13305 non-null  object        \n",
      " 4   neighbourhood_group             13305 non-null  object        \n",
      " 5   neighbourhood                   13305 non-null  object        \n",
      " 6   latitude                        13305 non-null  float64       \n",
      " 7   longitude                       13305 non-null  float64       \n",
      " 8   room_type                       13305 non-null  object        \n",
      " 9   price                           13305 non-null  object        \n",
      " 10  minimum_nights                  13305 non-null  int64         \n",
      " 11  number_of_reviews               13305 non-null  int64         \n",
      " 12  last_review                     13305 non-null  datetime64[ns]\n",
      " 13  reviews_per_month               13305 non-null  float64       \n",
      " 14  calculated_host_listings_count  13305 non-null  int64         \n",
      " 15  availability_365                13305 non-null  int64         \n",
      " 16  number_of_reviews_ltm           13305 non-null  int64         \n",
      " 17  license                         9999 non-null   object        \n",
      "dtypes: datetime64[ns](1), float64(3), int64(7), object(7)\n",
      "memory usage: 1.9+ MB\n"
     ]
    }
   ],
   "source": [
    "# your code goes here\n",
    "airbnb['last_review'] = pd.to_datetime(airbnb['last_review']) #Usamos la funcion to_datetime\n",
    "airbnb.info() #Comprobamos que ha funcionado"
   ]
  },
  {
   "cell_type": "markdown",
   "metadata": {
    "id": "-610sXqk2rl_"
   },
   "source": [
    "![green-divider](https://user-images.githubusercontent.com/7065401/52071924-c003ad80-2562-11e9-8297-1c6595f8a7ff.png)\n",
    "\n",
    "### 7. Duplicated listings\n",
    "\n",
    "Many listings could be duplicated. Drop all the entries that have the same `listing_name`, `price` and `room_type`. Keep just the last entry."
   ]
  },
  {
   "cell_type": "code",
   "execution_count": 12,
   "metadata": {
    "id": "KWJ_C7DW2rl_"
   },
   "outputs": [],
   "source": [
    "# your code goes here\n",
    "airbnb.drop_duplicates(subset=['host_name', 'price',\"room_type\"], keep='last',inplace=True)"
   ]
  },
  {
   "cell_type": "code",
   "execution_count": 13,
   "metadata": {},
   "outputs": [
    {
     "data": {
      "text/plain": [
       "id                                11115\n",
       "name                              11111\n",
       "host_id                           11115\n",
       "host_name                         11115\n",
       "neighbourhood_group               11115\n",
       "neighbourhood                     11115\n",
       "latitude                          11115\n",
       "longitude                         11115\n",
       "room_type                         11115\n",
       "price                             11115\n",
       "minimum_nights                    11115\n",
       "number_of_reviews                 11115\n",
       "last_review                       11115\n",
       "reviews_per_month                 11115\n",
       "calculated_host_listings_count    11115\n",
       "availability_365                  11115\n",
       "number_of_reviews_ltm             11115\n",
       "license                            8370\n",
       "dtype: int64"
      ]
     },
     "execution_count": 13,
     "metadata": {},
     "output_type": "execute_result"
    }
   ],
   "source": [
    "airbnb.count()"
   ]
  },
  {
   "cell_type": "markdown",
   "metadata": {
    "id": "7cFwhQYw2rl_"
   },
   "source": [
    "![green-divider](https://user-images.githubusercontent.com/7065401/52071924-c003ad80-2562-11e9-8297-1c6595f8a7ff.png)\n",
    "\n",
    "### 8. Invalid `price`\n",
    "\n",
    "Check the `price`. It should be a numeric type column.\n",
    "\n",
    "- Remove the `USD`, `.` and `-` characters.\n",
    "- Replace `,` with a `.` character.\n",
    "- Cast the column to `float` dtype."
   ]
  },
  {
   "cell_type": "code",
   "execution_count": 7,
   "metadata": {},
   "outputs": [
    {
     "name": "stdout",
     "output_type": "stream",
     "text": [
      "<class 'pandas.core.frame.DataFrame'>\n",
      "Int64Index: 13305 entries, 0 to 16919\n",
      "Data columns (total 18 columns):\n",
      " #   Column                          Non-Null Count  Dtype  \n",
      "---  ------                          --------------  -----  \n",
      " 0   id                              13305 non-null  int64  \n",
      " 1   name                            13301 non-null  object \n",
      " 2   host_id                         13305 non-null  int64  \n",
      " 3   host_name                       13305 non-null  object \n",
      " 4   neighbourhood_group             13305 non-null  object \n",
      " 5   neighbourhood                   13305 non-null  object \n",
      " 6   latitude                        13305 non-null  float64\n",
      " 7   longitude                       13305 non-null  float64\n",
      " 8   room_type                       13305 non-null  object \n",
      " 9   price                           13305 non-null  float64\n",
      " 10  minimum_nights                  13305 non-null  int64  \n",
      " 11  number_of_reviews               13305 non-null  int64  \n",
      " 12  last_review                     13305 non-null  object \n",
      " 13  reviews_per_month               13305 non-null  float64\n",
      " 14  calculated_host_listings_count  13305 non-null  int64  \n",
      " 15  availability_365                13305 non-null  int64  \n",
      " 16  number_of_reviews_ltm           13305 non-null  int64  \n",
      " 17  license                         9999 non-null   object \n",
      "dtypes: float64(4), int64(7), object(7)\n",
      "memory usage: 1.9+ MB\n"
     ]
    },
    {
     "name": "stderr",
     "output_type": "stream",
     "text": [
      "C:\\Users\\irene\\AppData\\Local\\Temp/ipykernel_14452/3319930503.py:3: FutureWarning: The default value of regex will change from True to False in a future version. In addition, single character regular expressions will *not* be treated as literal strings when regex=True.\n",
      "  airbnb[\"price\"] = airbnb['price'].str.replace('.',' ') #Eliminamos .\n"
     ]
    }
   ],
   "source": [
    "# your code goes here\n",
    "airbnb[\"price\"] = airbnb['price'].str.replace('USD',' ') #Eliminamos USD\n",
    "airbnb[\"price\"] = airbnb['price'].str.replace('.',' ') #Eliminamos .\n",
    "airbnb[\"price\"] = airbnb['price'].str.replace('-',' ') #Eliminamos -\n",
    "airbnb[\"price\"] = airbnb['price'].str.replace(',','.') #Reemplazamos la coma por el punto\n",
    "airbnb['price'] = airbnb['price'].astype(float) #Lo convertimos a float\n",
    "airbnb.info() #Comprobamos que se ha convertido a float"
   ]
  },
  {
   "cell_type": "markdown",
   "metadata": {},
   "source": [
    "Precios = airbnb.loc[airbnb['price'].notnull(),['price']]\n",
    "Precios[\"price\"] = Precios['price'].str.replace('USD','') #Eliminamos USD\n",
    "Precios[\"price\"] = Precios['price'].str.replace('.','') #Eliminamos .\n",
    "Precios[\"price\"] = Precios['price'].str.replace('-','') #Eliminamos -\n",
    "Precios[\"price\"] = Precios['price'].str.replace(',','.') #Reemplazamos la coma por el punto\n",
    "Precios['price'] = Precios['price'].astype(float)\n",
    "Precios[\"price\"]"
   ]
  },
  {
   "cell_type": "markdown",
   "metadata": {},
   "source": [
    "https://betterprogramming.pub/5-different-ways-to-remove-specific-characters-from-a-string-in-python-b0e081839ab9\n"
   ]
  },
  {
   "cell_type": "markdown",
   "metadata": {
    "id": "lg5MFnXg2rmA",
    "tags": []
   },
   "source": [
    "![green-divider](https://user-images.githubusercontent.com/7065401/52071924-c003ad80-2562-11e9-8297-1c6595f8a7ff.png)\n",
    "\n",
    "### 9. Separating `neighbourhood_group` column\n",
    "\n",
    "Check the `neighbourhood_group` column. It should be divided into two different columns: `neighbourhood` and `borough`.\n",
    "\n",
    "After the split, drop the `neighbourhood_group` column."
   ]
  },
  {
   "cell_type": "code",
   "execution_count": 10,
   "metadata": {
    "id": "JaDPMqB32rmA"
   },
   "outputs": [
    {
     "data": {
      "text/plain": [
       "(13305, 18)"
      ]
     },
     "execution_count": 10,
     "metadata": {},
     "output_type": "execute_result"
    }
   ],
   "source": [
    "# your code goes here\n",
    "#Si la columna neighbourhood_group comparte valor con neighbouhood entonces se trata de un barrio, si no comparte es borough\n",
    "#tenemos que crear dos listas\n",
    "airbnb['neighbourhood_group'] = airbnb['neighbourhood_group'].astype(str)\n",
    "airbnb[\"neighbourhood\"]= airbnb['neighbourhood'].astype(str)\n",
    "Borough=(airbnb[airbnb['neighbourhood_group'].isin(airbnb['neighbourhood']) == True])\n",
    "airbnb.shape"
   ]
  },
  {
   "cell_type": "code",
   "execution_count": 17,
   "metadata": {},
   "outputs": [
    {
     "data": {
      "text/html": [
       "<div>\n",
       "<style scoped>\n",
       "    .dataframe tbody tr th:only-of-type {\n",
       "        vertical-align: middle;\n",
       "    }\n",
       "\n",
       "    .dataframe tbody tr th {\n",
       "        vertical-align: top;\n",
       "    }\n",
       "\n",
       "    .dataframe thead th {\n",
       "        text-align: right;\n",
       "    }\n",
       "</style>\n",
       "<table border=\"1\" class=\"dataframe\">\n",
       "  <thead>\n",
       "    <tr style=\"text-align: right;\">\n",
       "      <th></th>\n",
       "      <th>id</th>\n",
       "      <th>name</th>\n",
       "      <th>host_id</th>\n",
       "      <th>host_name</th>\n",
       "      <th>neighbourhood_group</th>\n",
       "      <th>neighbourhood</th>\n",
       "      <th>latitude</th>\n",
       "      <th>longitude</th>\n",
       "      <th>room_type</th>\n",
       "      <th>price</th>\n",
       "      <th>minimum_nights</th>\n",
       "      <th>number_of_reviews</th>\n",
       "      <th>last_review</th>\n",
       "      <th>reviews_per_month</th>\n",
       "      <th>calculated_host_listings_count</th>\n",
       "      <th>availability_365</th>\n",
       "      <th>number_of_reviews_ltm</th>\n",
       "      <th>license</th>\n",
       "    </tr>\n",
       "  </thead>\n",
       "  <tbody>\n",
       "    <tr>\n",
       "      <th>15924</th>\n",
       "      <td>52462248</td>\n",
       "      <td>Large room with private bathroom.  Baroque style.</td>\n",
       "      <td>95304948</td>\n",
       "      <td>Tatyana</td>\n",
       "      <td>Sant Andreu</td>\n",
       "      <td>el Bon Pastor</td>\n",
       "      <td>41.44510</td>\n",
       "      <td>2.22252</td>\n",
       "      <td>Private room</td>\n",
       "      <td>50.0</td>\n",
       "      <td>3</td>\n",
       "      <td>21</td>\n",
       "      <td>2022-08-31</td>\n",
       "      <td>1.89</td>\n",
       "      <td>4</td>\n",
       "      <td>337</td>\n",
       "      <td>21</td>\n",
       "      <td>Exempt</td>\n",
       "    </tr>\n",
       "    <tr>\n",
       "      <th>16473</th>\n",
       "      <td>25438996</td>\n",
       "      <td>Despacho/Apartamento privado muy tranquilo.Wif...</td>\n",
       "      <td>192028520</td>\n",
       "      <td>Jose</td>\n",
       "      <td>Sant Andreu</td>\n",
       "      <td>el Bon Pastor</td>\n",
       "      <td>41.43407</td>\n",
       "      <td>2.21517</td>\n",
       "      <td>Entire home/apt</td>\n",
       "      <td>87.0</td>\n",
       "      <td>2</td>\n",
       "      <td>220</td>\n",
       "      <td>2022-08-27</td>\n",
       "      <td>4.49</td>\n",
       "      <td>1</td>\n",
       "      <td>153</td>\n",
       "      <td>57</td>\n",
       "      <td>NaN</td>\n",
       "    </tr>\n",
       "    <tr>\n",
       "      <th>16077</th>\n",
       "      <td>34803457</td>\n",
       "      <td>Habitacion privada a 25minutos de la playa...</td>\n",
       "      <td>262395595</td>\n",
       "      <td>Mari</td>\n",
       "      <td>Sant Andreu</td>\n",
       "      <td>el Bon Pastor</td>\n",
       "      <td>41.44635</td>\n",
       "      <td>2.22606</td>\n",
       "      <td>Private room</td>\n",
       "      <td>25.0</td>\n",
       "      <td>1</td>\n",
       "      <td>32</td>\n",
       "      <td>2021-06-25</td>\n",
       "      <td>0.80</td>\n",
       "      <td>1</td>\n",
       "      <td>13</td>\n",
       "      <td>0</td>\n",
       "      <td>Hutb123456</td>\n",
       "    </tr>\n",
       "  </tbody>\n",
       "</table>\n",
       "</div>"
      ],
      "text/plain": [
       "             id                                               name    host_id  \\\n",
       "15924  52462248  Large room with private bathroom.  Baroque style.   95304948   \n",
       "16473  25438996  Despacho/Apartamento privado muy tranquilo.Wif...  192028520   \n",
       "16077  34803457      Habitacion privada a 25minutos de la playa...  262395595   \n",
       "\n",
       "      host_name neighbourhood_group  neighbourhood  latitude  longitude  \\\n",
       "15924   Tatyana         Sant Andreu  el Bon Pastor  41.44510    2.22252   \n",
       "16473      Jose         Sant Andreu  el Bon Pastor  41.43407    2.21517   \n",
       "16077      Mari         Sant Andreu  el Bon Pastor  41.44635    2.22606   \n",
       "\n",
       "             room_type  price  minimum_nights  number_of_reviews last_review  \\\n",
       "15924     Private room   50.0               3                 21  2022-08-31   \n",
       "16473  Entire home/apt   87.0               2                220  2022-08-27   \n",
       "16077     Private room   25.0               1                 32  2021-06-25   \n",
       "\n",
       "       reviews_per_month  calculated_host_listings_count  availability_365  \\\n",
       "15924               1.89                               4               337   \n",
       "16473               4.49                               1               153   \n",
       "16077               0.80                               1                13   \n",
       "\n",
       "       number_of_reviews_ltm     license  \n",
       "15924                     21      Exempt  \n",
       "16473                     57         NaN  \n",
       "16077                      0  Hutb123456  "
      ]
     },
     "execution_count": 17,
     "metadata": {},
     "output_type": "execute_result"
    }
   ],
   "source": [
    "Borough.shape\n",
    "Borough.sample(3)"
   ]
  },
  {
   "cell_type": "markdown",
   "metadata": {
    "id": "UuYpSiGW2rmB"
   },
   "source": [
    "![green-divider](https://user-images.githubusercontent.com/7065401/52071924-c003ad80-2562-11e9-8297-1c6595f8a7ff.png)\n",
    "\n",
    "### 10. Fixing `availability_365` values\n",
    "\n",
    "This columns should casted to numeric dtype, but it has many invalid string values, like `43+N524`, that should be coerced while casting.\n",
    "\n",
    "Also we can see many values out of domain, let's fix them:\n",
    "- Negative numbers, that should be converted to positive.\n",
    "- Numbers above 365, that should be dropped."
   ]
  },
  {
   "cell_type": "code",
   "execution_count": 20,
   "metadata": {
    "id": "ZpGitlXw2rmB"
   },
   "outputs": [
    {
     "data": {
      "text/plain": [
       "7674       0\n",
       "4476       0\n",
       "4485       0\n",
       "4486       0\n",
       "4497       0\n",
       "        ... \n",
       "6640     365\n",
       "9022     365\n",
       "6748     365\n",
       "16177    365\n",
       "16596    365\n",
       "Name: availability_365, Length: 11115, dtype: int64"
      ]
     },
     "execution_count": 20,
     "metadata": {},
     "output_type": "execute_result"
    }
   ],
   "source": [
    "# your code goes here\n",
    "\n",
    "airbnb[\"availability_365\"]=np.where(airbnb[\"availability_365\"] > 0, airbnb[\"availability_365\"],airbnb[\"availability_365\"] * -1) \n",
    "airbnb.sort_values(by=['availability_365'])[\"availability_365\"] \n",
    "#Hemos eliminado modificado los valores negativos convirtiendolos a positivos y observamos que no hay valores mayores a 365"
   ]
  },
  {
   "cell_type": "markdown",
   "metadata": {
    "id": "Z2bOU5032rmC"
   },
   "source": [
    "![green-divider](https://user-images.githubusercontent.com/7065401/52071924-c003ad80-2562-11e9-8297-1c6595f8a7ff.png)\n",
    "\n",
    "### 11. Most reviews\n",
    "\n",
    "Create a Series `most_reviews` containing the top 10 `host_name`s with the most total (sum) reviews per month accross all properties owned by that host.\n",
    "Pasos:"
   ]
  },
  {
   "cell_type": "code",
   "execution_count": 20,
   "metadata": {},
   "outputs": [
    {
     "data": {
      "text/html": [
       "<div>\n",
       "<style scoped>\n",
       "    .dataframe tbody tr th:only-of-type {\n",
       "        vertical-align: middle;\n",
       "    }\n",
       "\n",
       "    .dataframe tbody tr th {\n",
       "        vertical-align: top;\n",
       "    }\n",
       "\n",
       "    .dataframe thead th {\n",
       "        text-align: right;\n",
       "    }\n",
       "</style>\n",
       "<table border=\"1\" class=\"dataframe\">\n",
       "  <thead>\n",
       "    <tr style=\"text-align: right;\">\n",
       "      <th></th>\n",
       "      <th>host_name</th>\n",
       "      <th>suma</th>\n",
       "    </tr>\n",
       "  </thead>\n",
       "  <tbody>\n",
       "    <tr>\n",
       "      <th>1312</th>\n",
       "      <td>Jordi</td>\n",
       "      <td>8295</td>\n",
       "    </tr>\n",
       "    <tr>\n",
       "      <th>2511</th>\n",
       "      <td>Stay U-Nique</td>\n",
       "      <td>8054</td>\n",
       "    </tr>\n",
       "    <tr>\n",
       "      <th>185</th>\n",
       "      <td>Angel</td>\n",
       "      <td>5939</td>\n",
       "    </tr>\n",
       "    <tr>\n",
       "      <th>1034</th>\n",
       "      <td>Habitat Apartments</td>\n",
       "      <td>5849</td>\n",
       "    </tr>\n",
       "    <tr>\n",
       "      <th>2778</th>\n",
       "      <td>Xavier</td>\n",
       "      <td>5355</td>\n",
       "    </tr>\n",
       "    <tr>\n",
       "      <th>819</th>\n",
       "      <td>Eva &amp; Jacques</td>\n",
       "      <td>5281</td>\n",
       "    </tr>\n",
       "    <tr>\n",
       "      <th>2098</th>\n",
       "      <td>Olala Homes</td>\n",
       "      <td>5037</td>\n",
       "    </tr>\n",
       "    <tr>\n",
       "      <th>56</th>\n",
       "      <td>Albert</td>\n",
       "      <td>5027</td>\n",
       "    </tr>\n",
       "    <tr>\n",
       "      <th>615</th>\n",
       "      <td>David</td>\n",
       "      <td>4621</td>\n",
       "    </tr>\n",
       "    <tr>\n",
       "      <th>82</th>\n",
       "      <td>Alex</td>\n",
       "      <td>4620</td>\n",
       "    </tr>\n",
       "  </tbody>\n",
       "</table>\n",
       "</div>"
      ],
      "text/plain": [
       "               host_name  suma\n",
       "1312               Jordi  8295\n",
       "2511        Stay U-Nique  8054\n",
       "185                Angel  5939\n",
       "1034  Habitat Apartments  5849\n",
       "2778              Xavier  5355\n",
       "819        Eva & Jacques  5281\n",
       "2098         Olala Homes  5037\n",
       "56                Albert  5027\n",
       "615                David  4621\n",
       "82                  Alex  4620"
      ]
     },
     "execution_count": 20,
     "metadata": {},
     "output_type": "execute_result"
    }
   ],
   "source": [
    "# your code goes here\n",
    "\n",
    "host_reviews = airbnb[['host_name',\"number_of_reviews\"]]#Creo un dataset con solo esas dos columnas para verlo mas claro\n",
    "suma_reviews=host_reviews.groupby(['host_name'],as_index=False).agg(suma = ('number_of_reviews','sum'))\n",
    "most_reviews=suma_reviews.sort_values(by=[\"suma\"],ascending=False).head(10)\n",
    "most_reviews"
   ]
  },
  {
   "cell_type": "markdown",
   "metadata": {
    "id": "JOi__u0x2rmC"
   },
   "source": [
    "#### Visualizing most_reviews"
   ]
  },
  {
   "cell_type": "code",
   "execution_count": 22,
   "metadata": {},
   "outputs": [
    {
     "data": {
      "image/png": "[encoded data removed]",
      "text/plain": [
       "<Figure size 432x288 with 1 Axes>"
      ]
     },
     "metadata": {
      "needs_background": "light"
     },
     "output_type": "display_data"
    }
   ],
   "source": [
    "sns.barplot(data=most_reviews,x=\"host_name\",y=\"suma\",color=\"g\")\n",
    "plt.xticks(rotation = 80)\n",
    "plt.show()"
   ]
  },
  {
   "cell_type": "markdown",
   "metadata": {
    "id": "_H9JV1x22rmD"
   },
   "source": [
    "![green-divider](https://user-images.githubusercontent.com/7065401/52071924-c003ad80-2562-11e9-8297-1c6595f8a7ff.png)\n",
    "\n",
    "### 12. Most expensive listings\n",
    "\n",
    "Create a variable `expensive_listings_df` containing the top 100 most expensive per night listings. The most expensive should be at the top."
   ]
  },
  {
   "cell_type": "code",
   "execution_count": 23,
   "metadata": {
    "id": "8yPj9aqz2rmD"
   },
   "outputs": [
    {
     "data": {
      "text/html": [
       "<div>\n",
       "<style scoped>\n",
       "    .dataframe tbody tr th:only-of-type {\n",
       "        vertical-align: middle;\n",
       "    }\n",
       "\n",
       "    .dataframe tbody tr th {\n",
       "        vertical-align: top;\n",
       "    }\n",
       "\n",
       "    .dataframe thead th {\n",
       "        text-align: right;\n",
       "    }\n",
       "</style>\n",
       "<table border=\"1\" class=\"dataframe\">\n",
       "  <thead>\n",
       "    <tr style=\"text-align: right;\">\n",
       "      <th></th>\n",
       "      <th>id</th>\n",
       "      <th>name</th>\n",
       "      <th>host_id</th>\n",
       "      <th>host_name</th>\n",
       "      <th>neighbourhood_group</th>\n",
       "      <th>neighbourhood</th>\n",
       "      <th>latitude</th>\n",
       "      <th>longitude</th>\n",
       "      <th>room_type</th>\n",
       "      <th>price</th>\n",
       "      <th>minimum_nights</th>\n",
       "      <th>number_of_reviews</th>\n",
       "      <th>last_review</th>\n",
       "      <th>reviews_per_month</th>\n",
       "      <th>calculated_host_listings_count</th>\n",
       "      <th>availability_365</th>\n",
       "      <th>number_of_reviews_ltm</th>\n",
       "      <th>license</th>\n",
       "    </tr>\n",
       "  </thead>\n",
       "  <tbody>\n",
       "    <tr>\n",
       "      <th>0</th>\n",
       "      <td>14484042</td>\n",
       "      <td>Habitacion enorme muy bien situada</td>\n",
       "      <td>63047696</td>\n",
       "      <td>Alvaro</td>\n",
       "      <td>Eixample</td>\n",
       "      <td>la Nova Esquerra de l'Eixample</td>\n",
       "      <td>41.38261</td>\n",
       "      <td>2.14987</td>\n",
       "      <td>Private room</td>\n",
       "      <td>90000.0</td>\n",
       "      <td>1</td>\n",
       "      <td>1</td>\n",
       "      <td>2016-09-20</td>\n",
       "      <td>0.01</td>\n",
       "      <td>1</td>\n",
       "      <td>0</td>\n",
       "      <td>0</td>\n",
       "      <td>NaN</td>\n",
       "    </tr>\n",
       "    <tr>\n",
       "      <th>1</th>\n",
       "      <td>25927238</td>\n",
       "      <td>individual room/ habitación individual</td>\n",
       "      <td>179317378</td>\n",
       "      <td>Eric</td>\n",
       "      <td>Horta-Guinardó</td>\n",
       "      <td>el Guinardó</td>\n",
       "      <td>41.42154</td>\n",
       "      <td>2.17763</td>\n",
       "      <td>Private room</td>\n",
       "      <td>63917.0</td>\n",
       "      <td>1124</td>\n",
       "      <td>1</td>\n",
       "      <td>2019-02-22</td>\n",
       "      <td>0.02</td>\n",
       "      <td>1</td>\n",
       "      <td>87</td>\n",
       "      <td>0</td>\n",
       "      <td>Exempt</td>\n",
       "    </tr>\n",
       "    <tr>\n",
       "      <th>2</th>\n",
       "      <td>40561327</td>\n",
       "      <td>Habitación Cuádruple, en el corazón de Barcelona</td>\n",
       "      <td>216706365</td>\n",
       "      <td>Hotel</td>\n",
       "      <td>Ciutat Vella</td>\n",
       "      <td>el Raval</td>\n",
       "      <td>41.38186</td>\n",
       "      <td>2.16886</td>\n",
       "      <td>Private room</td>\n",
       "      <td>9999.0</td>\n",
       "      <td>1</td>\n",
       "      <td>48</td>\n",
       "      <td>2022-08-26</td>\n",
       "      <td>1.52</td>\n",
       "      <td>3</td>\n",
       "      <td>0</td>\n",
       "      <td>35</td>\n",
       "      <td>HUTB-225302</td>\n",
       "    </tr>\n",
       "    <tr>\n",
       "      <th>3</th>\n",
       "      <td>43479394</td>\n",
       "      <td>Hotel Mosaic, Inside Double Room</td>\n",
       "      <td>340466110</td>\n",
       "      <td>ONA Hotels</td>\n",
       "      <td>Eixample</td>\n",
       "      <td>la Dreta de l'Eixample</td>\n",
       "      <td>41.39147</td>\n",
       "      <td>2.16259</td>\n",
       "      <td>Private room</td>\n",
       "      <td>9200.0</td>\n",
       "      <td>1</td>\n",
       "      <td>1</td>\n",
       "      <td>2021-05-31</td>\n",
       "      <td>0.06</td>\n",
       "      <td>5</td>\n",
       "      <td>365</td>\n",
       "      <td>0</td>\n",
       "      <td>HB-004622</td>\n",
       "    </tr>\n",
       "    <tr>\n",
       "      <th>4</th>\n",
       "      <td>43483536</td>\n",
       "      <td>Hotel Arya, Double Room with Balcony</td>\n",
       "      <td>340465932</td>\n",
       "      <td>Ona Hotels</td>\n",
       "      <td>Les Corts</td>\n",
       "      <td>la Maternitat i Sant Ramon</td>\n",
       "      <td>41.37648</td>\n",
       "      <td>2.12390</td>\n",
       "      <td>Private room</td>\n",
       "      <td>9100.0</td>\n",
       "      <td>1</td>\n",
       "      <td>1</td>\n",
       "      <td>2021-08-16</td>\n",
       "      <td>0.08</td>\n",
       "      <td>5</td>\n",
       "      <td>0</td>\n",
       "      <td>0</td>\n",
       "      <td>HB-004622</td>\n",
       "    </tr>\n",
       "    <tr>\n",
       "      <th>...</th>\n",
       "      <td>...</td>\n",
       "      <td>...</td>\n",
       "      <td>...</td>\n",
       "      <td>...</td>\n",
       "      <td>...</td>\n",
       "      <td>...</td>\n",
       "      <td>...</td>\n",
       "      <td>...</td>\n",
       "      <td>...</td>\n",
       "      <td>...</td>\n",
       "      <td>...</td>\n",
       "      <td>...</td>\n",
       "      <td>...</td>\n",
       "      <td>...</td>\n",
       "      <td>...</td>\n",
       "      <td>...</td>\n",
       "      <td>...</td>\n",
       "      <td>...</td>\n",
       "    </tr>\n",
       "    <tr>\n",
       "      <th>95</th>\n",
       "      <td>18446890</td>\n",
       "      <td>BCN CENTER, up to 6!</td>\n",
       "      <td>5608910</td>\n",
       "      <td>Helena</td>\n",
       "      <td>Eixample</td>\n",
       "      <td>la Dreta de l'Eixample</td>\n",
       "      <td>41.39191</td>\n",
       "      <td>2.16888</td>\n",
       "      <td>Entire home/apt</td>\n",
       "      <td>675.0</td>\n",
       "      <td>2</td>\n",
       "      <td>3</td>\n",
       "      <td>2018-06-03</td>\n",
       "      <td>0.05</td>\n",
       "      <td>5</td>\n",
       "      <td>364</td>\n",
       "      <td>0</td>\n",
       "      <td>HUTB-005504</td>\n",
       "    </tr>\n",
       "    <tr>\n",
       "      <th>96</th>\n",
       "      <td>18564914</td>\n",
       "      <td>Fantastic big Apartment with Balcony!</td>\n",
       "      <td>750385</td>\n",
       "      <td>Casa Consell</td>\n",
       "      <td>Eixample</td>\n",
       "      <td>la Dreta de l'Eixample</td>\n",
       "      <td>41.39216</td>\n",
       "      <td>2.16729</td>\n",
       "      <td>Entire home/apt</td>\n",
       "      <td>674.0</td>\n",
       "      <td>1</td>\n",
       "      <td>75</td>\n",
       "      <td>2022-08-28</td>\n",
       "      <td>1.19</td>\n",
       "      <td>3</td>\n",
       "      <td>95</td>\n",
       "      <td>12</td>\n",
       "      <td>HUTB-003418</td>\n",
       "    </tr>\n",
       "    <tr>\n",
       "      <th>97</th>\n",
       "      <td>23012707</td>\n",
       "      <td>7 Bedroom apartment in city centre- Classic Style</td>\n",
       "      <td>170513081</td>\n",
       "      <td>Georgina</td>\n",
       "      <td>Ciutat Vella</td>\n",
       "      <td>Sant Pere, Santa Caterina i la Ribera</td>\n",
       "      <td>41.38706</td>\n",
       "      <td>2.17670</td>\n",
       "      <td>Entire home/apt</td>\n",
       "      <td>671.0</td>\n",
       "      <td>2</td>\n",
       "      <td>93</td>\n",
       "      <td>2022-08-21</td>\n",
       "      <td>1.67</td>\n",
       "      <td>20</td>\n",
       "      <td>326</td>\n",
       "      <td>17</td>\n",
       "      <td>HUTB-000985</td>\n",
       "    </tr>\n",
       "    <tr>\n",
       "      <th>98</th>\n",
       "      <td>40767970</td>\n",
       "      <td>chs123w LARGE GROUPFLAT LAS RAMBLAS-FIRA BARCE...</td>\n",
       "      <td>1447144</td>\n",
       "      <td>Acomodis Apartments</td>\n",
       "      <td>Sants-Montjuïc</td>\n",
       "      <td>el Poble Sec</td>\n",
       "      <td>41.37392</td>\n",
       "      <td>2.16786</td>\n",
       "      <td>Entire home/apt</td>\n",
       "      <td>664.0</td>\n",
       "      <td>1</td>\n",
       "      <td>1</td>\n",
       "      <td>2020-02-20</td>\n",
       "      <td>0.03</td>\n",
       "      <td>127</td>\n",
       "      <td>365</td>\n",
       "      <td>0</td>\n",
       "      <td>HUTB-002498</td>\n",
       "    </tr>\n",
       "    <tr>\n",
       "      <th>99</th>\n",
       "      <td>38173660</td>\n",
       "      <td>Hostal Flores Double/Twin Room with an extra bed</td>\n",
       "      <td>284943061</td>\n",
       "      <td>Hostal</td>\n",
       "      <td>Ciutat Vella</td>\n",
       "      <td>el Raval</td>\n",
       "      <td>41.38140</td>\n",
       "      <td>2.17281</td>\n",
       "      <td>Hotel room</td>\n",
       "      <td>663.0</td>\n",
       "      <td>1</td>\n",
       "      <td>6</td>\n",
       "      <td>2021-12-31</td>\n",
       "      <td>0.43</td>\n",
       "      <td>4</td>\n",
       "      <td>183</td>\n",
       "      <td>3</td>\n",
       "      <td>HB-001862</td>\n",
       "    </tr>\n",
       "  </tbody>\n",
       "</table>\n",
       "<p>100 rows × 18 columns</p>\n",
       "</div>"
      ],
      "text/plain": [
       "          id                                               name    host_id  \\\n",
       "0   14484042                 Habitacion enorme muy bien situada   63047696   \n",
       "1   25927238             individual room/ habitación individual  179317378   \n",
       "2   40561327   Habitación Cuádruple, en el corazón de Barcelona  216706365   \n",
       "3   43479394                   Hotel Mosaic, Inside Double Room  340466110   \n",
       "4   43483536               Hotel Arya, Double Room with Balcony  340465932   \n",
       "..       ...                                                ...        ...   \n",
       "95  18446890                               BCN CENTER, up to 6!    5608910   \n",
       "96  18564914              Fantastic big Apartment with Balcony!     750385   \n",
       "97  23012707  7 Bedroom apartment in city centre- Classic Style  170513081   \n",
       "98  40767970  chs123w LARGE GROUPFLAT LAS RAMBLAS-FIRA BARCE...    1447144   \n",
       "99  38173660   Hostal Flores Double/Twin Room with an extra bed  284943061   \n",
       "\n",
       "              host_name neighbourhood_group  \\\n",
       "0                Alvaro            Eixample   \n",
       "1                  Eric      Horta-Guinardó   \n",
       "2                 Hotel        Ciutat Vella   \n",
       "3            ONA Hotels            Eixample   \n",
       "4            Ona Hotels           Les Corts   \n",
       "..                  ...                 ...   \n",
       "95               Helena            Eixample   \n",
       "96         Casa Consell            Eixample   \n",
       "97             Georgina        Ciutat Vella   \n",
       "98  Acomodis Apartments      Sants-Montjuïc   \n",
       "99               Hostal        Ciutat Vella   \n",
       "\n",
       "                            neighbourhood  latitude  longitude  \\\n",
       "0          la Nova Esquerra de l'Eixample  41.38261    2.14987   \n",
       "1                             el Guinardó  41.42154    2.17763   \n",
       "2                                el Raval  41.38186    2.16886   \n",
       "3                  la Dreta de l'Eixample  41.39147    2.16259   \n",
       "4              la Maternitat i Sant Ramon  41.37648    2.12390   \n",
       "..                                    ...       ...        ...   \n",
       "95                 la Dreta de l'Eixample  41.39191    2.16888   \n",
       "96                 la Dreta de l'Eixample  41.39216    2.16729   \n",
       "97  Sant Pere, Santa Caterina i la Ribera  41.38706    2.17670   \n",
       "98                           el Poble Sec  41.37392    2.16786   \n",
       "99                               el Raval  41.38140    2.17281   \n",
       "\n",
       "          room_type    price  minimum_nights  number_of_reviews last_review  \\\n",
       "0      Private room  90000.0               1                  1  2016-09-20   \n",
       "1      Private room  63917.0            1124                  1  2019-02-22   \n",
       "2      Private room   9999.0               1                 48  2022-08-26   \n",
       "3      Private room   9200.0               1                  1  2021-05-31   \n",
       "4      Private room   9100.0               1                  1  2021-08-16   \n",
       "..              ...      ...             ...                ...         ...   \n",
       "95  Entire home/apt    675.0               2                  3  2018-06-03   \n",
       "96  Entire home/apt    674.0               1                 75  2022-08-28   \n",
       "97  Entire home/apt    671.0               2                 93  2022-08-21   \n",
       "98  Entire home/apt    664.0               1                  1  2020-02-20   \n",
       "99       Hotel room    663.0               1                  6  2021-12-31   \n",
       "\n",
       "    reviews_per_month  calculated_host_listings_count  availability_365  \\\n",
       "0                0.01                               1                 0   \n",
       "1                0.02                               1                87   \n",
       "2                1.52                               3                 0   \n",
       "3                0.06                               5               365   \n",
       "4                0.08                               5                 0   \n",
       "..                ...                             ...               ...   \n",
       "95               0.05                               5               364   \n",
       "96               1.19                               3                95   \n",
       "97               1.67                              20               326   \n",
       "98               0.03                             127               365   \n",
       "99               0.43                               4               183   \n",
       "\n",
       "    number_of_reviews_ltm      license  \n",
       "0                       0          NaN  \n",
       "1                       0       Exempt  \n",
       "2                      35  HUTB-225302  \n",
       "3                       0    HB-004622  \n",
       "4                       0    HB-004622  \n",
       "..                    ...          ...  \n",
       "95                      0  HUTB-005504  \n",
       "96                     12  HUTB-003418  \n",
       "97                     17  HUTB-000985  \n",
       "98                      0  HUTB-002498  \n",
       "99                      3    HB-001862  \n",
       "\n",
       "[100 rows x 18 columns]"
      ]
     },
     "execution_count": 23,
     "metadata": {},
     "output_type": "execute_result"
    }
   ],
   "source": [
    "# your code goes here\n",
    "df_ordenado_prices = airbnb.sort_values(by=\"price\",ascending=False).copy() #Creamos una variable con los precios ordenados\n",
    "df_ordenado_prices.reset_index(drop=True, inplace=True) #Modificamos los indices\n",
    "expensive_listing_df=df_ordenado_prices.iloc[:100] #Usamos iloc para que nos coja las 100 primeras filas, que ya han sido ordenadas\n",
    "expensive_listing_df"
   ]
  },
  {
   "cell_type": "markdown",
   "metadata": {
    "id": "QlPaC8ux2rmD"
   },
   "source": [
    "![green-divider](https://user-images.githubusercontent.com/7065401/52071924-c003ad80-2562-11e9-8297-1c6595f8a7ff.png)\n",
    "\n",
    "### 13. Which neighbourhood has biggest amount of expensive listings?\n",
    "\n",
    "Using the `expensive_listings_df` listings count the occurrences of each `neighbourhood` they belong."
   ]
  },
  {
   "cell_type": "code",
   "execution_count": 24,
   "metadata": {
    "id": "vzvwIupl2rmD"
   },
   "outputs": [
    {
     "data": {
      "text/plain": [
       "la Dreta de l'Eixample                          28\n",
       "el Raval                                        10\n",
       "el Barri Gòtic                                   6\n",
       "la Vila de Gràcia                                5\n",
       "la Sagrada Família                               5\n",
       "Sant Antoni                                      5\n",
       "la Vila Olímpica del Poblenou                    4\n",
       "Sant Pere, Santa Caterina i la Ribera            3\n",
       "la Maternitat i Sant Ramon                       3\n",
       "el Poble Sec                                     3\n",
       "Diagonal Mar i el Front Marítim del Poblenou     3\n",
       "la Marina de Port                                3\n",
       "Sant Gervasi - Galvany                           2\n",
       "l'Antiga Esquerra de l'Eixample                  2\n",
       "les Corts                                        2\n",
       "el Parc i la Llacuna del Poblenou                2\n",
       "la Bordeta                                       1\n",
       "la Salut                                         1\n",
       "Pedralbes                                        1\n",
       "el Besòs i el Maresme                            1\n",
       "la Nova Esquerra de l'Eixample                   1\n",
       "Vilapicina i la Torre Llobeta                    1\n",
       "Sant Andreu                                      1\n",
       "el Guinardó                                      1\n",
       "la Font d'en Fargues                             1\n",
       "Sants - Badal                                    1\n",
       "el Bon Pastor                                    1\n",
       "Hostafrancs                                      1\n",
       "el Camp de l'Arpa del Clot                       1\n",
       "la Barceloneta                                   1\n",
       "Name: neighbourhood, dtype: int64"
      ]
     },
     "execution_count": 24,
     "metadata": {},
     "output_type": "execute_result"
    }
   ],
   "source": [
    "# your code goes here\n",
    "expensive_listing_df[\"neighbourhood\"].value_counts()"
   ]
  },
  {
   "cell_type": "markdown",
   "metadata": {
    "id": "ZBrFBcTS2rmD"
   },
   "source": [
    "#### Visualizing neighbourhoods"
   ]
  },
  {
   "cell_type": "code",
   "execution_count": 25,
   "metadata": {
    "id": "yetLe-sv2rmE"
   },
   "outputs": [
    {
     "data": {
      "image/png": "[encoded data removed]",
      "text/plain": [
       "<Figure size 432x288 with 1 Axes>"
      ]
     },
     "metadata": {
      "needs_background": "light"
     },
     "output_type": "display_data"
    }
   ],
   "source": [
    "sns.countplot(data=expensive_listing_df,x=\"neighbourhood\",color=\"g\")\n",
    "plt.xticks(rotation = 90)\n",
    "plt.ylabel(\"Number of accomodations\")\n",
    "plt.title(\"Expensive Neighbourhoods in BCN\")\n",
    "plt.show()\n",
    "\n",
    "#Aqui es mejor ordenar antes de graficar"
   ]
  },
  {
   "cell_type": "markdown",
   "metadata": {
    "id": "-COzBBeh2rmE"
   },
   "source": [
    "![green-divider](https://user-images.githubusercontent.com/7065401/52071924-c003ad80-2562-11e9-8297-1c6595f8a7ff.png)\n",
    "\n",
    "### 14. Which neighbourhood has the most listings?\n",
    "\n",
    "Using all the listings from `airbnb_df` count how many listings each neighbourhood has. Keep just the top 10 neighbourhoods with the most listings."
   ]
  },
  {
   "cell_type": "code",
   "execution_count": 22,
   "metadata": {
    "id": "RXDQ_a7J2rmE"
   },
   "outputs": [
    {
     "data": {
      "text/html": [
       "<div>\n",
       "<style scoped>\n",
       "    .dataframe tbody tr th:only-of-type {\n",
       "        vertical-align: middle;\n",
       "    }\n",
       "\n",
       "    .dataframe tbody tr th {\n",
       "        vertical-align: top;\n",
       "    }\n",
       "\n",
       "    .dataframe thead th {\n",
       "        text-align: right;\n",
       "    }\n",
       "</style>\n",
       "<table border=\"1\" class=\"dataframe\">\n",
       "  <thead>\n",
       "    <tr style=\"text-align: right;\">\n",
       "      <th></th>\n",
       "      <th>neighbourhood</th>\n",
       "      <th>Amount</th>\n",
       "    </tr>\n",
       "  </thead>\n",
       "  <tbody>\n",
       "    <tr>\n",
       "      <th>0</th>\n",
       "      <td>la Dreta de l'Eixample</td>\n",
       "      <td>1639</td>\n",
       "    </tr>\n",
       "    <tr>\n",
       "      <th>1</th>\n",
       "      <td>el Raval</td>\n",
       "      <td>947</td>\n",
       "    </tr>\n",
       "    <tr>\n",
       "      <th>2</th>\n",
       "      <td>la Sagrada Família</td>\n",
       "      <td>786</td>\n",
       "    </tr>\n",
       "    <tr>\n",
       "      <th>3</th>\n",
       "      <td>el Barri Gòtic</td>\n",
       "      <td>771</td>\n",
       "    </tr>\n",
       "    <tr>\n",
       "      <th>4</th>\n",
       "      <td>la Vila de Gràcia</td>\n",
       "      <td>720</td>\n",
       "    </tr>\n",
       "    <tr>\n",
       "      <th>5</th>\n",
       "      <td>Sant Pere, Santa Caterina i la Ribera</td>\n",
       "      <td>705</td>\n",
       "    </tr>\n",
       "    <tr>\n",
       "      <th>6</th>\n",
       "      <td>l'Antiga Esquerra de l'Eixample</td>\n",
       "      <td>662</td>\n",
       "    </tr>\n",
       "    <tr>\n",
       "      <th>7</th>\n",
       "      <td>Sant Antoni</td>\n",
       "      <td>661</td>\n",
       "    </tr>\n",
       "    <tr>\n",
       "      <th>8</th>\n",
       "      <td>el Poble Sec</td>\n",
       "      <td>637</td>\n",
       "    </tr>\n",
       "    <tr>\n",
       "      <th>9</th>\n",
       "      <td>la Nova Esquerra de l'Eixample</td>\n",
       "      <td>468</td>\n",
       "    </tr>\n",
       "  </tbody>\n",
       "</table>\n",
       "</div>"
      ],
      "text/plain": [
       "                           neighbourhood  Amount\n",
       "0                 la Dreta de l'Eixample    1639\n",
       "1                               el Raval     947\n",
       "2                     la Sagrada Família     786\n",
       "3                         el Barri Gòtic     771\n",
       "4                      la Vila de Gràcia     720\n",
       "5  Sant Pere, Santa Caterina i la Ribera     705\n",
       "6        l'Antiga Esquerra de l'Eixample     662\n",
       "7                            Sant Antoni     661\n",
       "8                           el Poble Sec     637\n",
       "9         la Nova Esquerra de l'Eixample     468"
      ]
     },
     "execution_count": 22,
     "metadata": {},
     "output_type": "execute_result"
    }
   ],
   "source": [
    "# your code goes here\n",
    "listings= airbnb.groupby([\"neighbourhood\"])[\"neighbourhood\"].count()\n",
    "most_listings=listings.sort_values(axis=0,ascending=False).iloc[:10]\n",
    "most_listings\n",
    "most_listings = pd.DataFrame([[key, most_listings[key]] for key in most_listings.keys()], columns=['neighbourhood', 'Amount'])\n",
    "most_listings\n",
    "#Contamos las veces que aparece cada barrio en el dataset le ponemos head para que aparezcan las 10 primeras apariciones iloc[:10]"
   ]
  },
  {
   "cell_type": "code",
   "execution_count": 126,
   "metadata": {},
   "outputs": [],
   "source": [
    "#x = airbnb[\"neighbourhood\"].value_counts().iloc[:10]"
   ]
  },
  {
   "cell_type": "markdown",
   "metadata": {
    "id": "KsPr0j8t2rmE"
   },
   "source": [
    "#### Visualizing neighbourhoods"
   ]
  },
  {
   "cell_type": "markdown",
   "metadata": {
    "id": "FRIgdoeq2rmE"
   },
   "source": [
    "![purple-divider](https://user-images.githubusercontent.com/7065401/52071927-c1cd7100-2562-11e9-908a-dde91ba14e59.png)"
   ]
  },
  {
   "cell_type": "code",
   "execution_count": 125,
   "metadata": {},
   "outputs": [
    {
     "data": {
      "image/png": "[encoded data removed]",
      "text/plain": [
       "<Figure size 432x288 with 1 Axes>"
      ]
     },
     "metadata": {
      "needs_background": "light"
     },
     "output_type": "display_data"
    }
   ],
   "source": [
    "sns.barplot(data=most_listings,x=\"neighbourhood\",y=\"Amount\",color=\"b\")\n",
    "plt.xticks(rotation = 90)\n",
    "plt.ylabel(\"Number of accomodations\")\n",
    "plt.title(\"Neighbourhoods in BCN\")\n",
    "plt.show()\n"
   ]
  },
  {
   "cell_type": "code",
   "execution_count": null,
   "metadata": {},
   "outputs": [],
   "source": []
  }
 ],
 "metadata": {
  "colab": {
   "collapsed_sections": [
    "MNoKdQ4i2rl6",
    "UQnudet22rl7",
    "yEfq0sWF2rl8",
    "x7Ysjpor2rl9",
    "HQIIOXQ52rl-",
    "bYO-W2Mn2rl-",
    "-610sXqk2rl_",
    "7cFwhQYw2rl_",
    "lg5MFnXg2rmA",
    "UuYpSiGW2rmB",
    "Z2bOU5032rmC",
    "_H9JV1x22rmD",
    "QlPaC8ux2rmD",
    "-COzBBeh2rmE"
   ],
   "provenance": []
  },
  "kernelspec": {
   "display_name": "Python 3 (ipykernel)",
   "language": "python",
   "name": "python3"
  },
  "language_info": {
   "codemirror_mode": {
    "name": "ipython",
    "version": 3
   },
   "file_extension": ".py",
   "mimetype": "text/x-python",
   "name": "python",
   "nbconvert_exporter": "python",
   "pygments_lexer": "ipython3",
   "version": "3.9.7"
  }
 },
 "nbformat": 4,
 "nbformat_minor": 4
}
